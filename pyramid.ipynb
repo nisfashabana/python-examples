{
 "cells": [
  {
   "cell_type": "code",
   "execution_count": 9,
   "id": "eb1ff832-d0c2-44b6-abf7-4da1f80ad2de",
   "metadata": {},
   "outputs": [
    {
     "name": "stdin",
     "output_type": "stream",
     "text": [
      "enter a number 4\n"
     ]
    },
    {
     "name": "stdout",
     "output_type": "stream",
     "text": [
      "   *\n",
      "  ***\n",
      " *****\n",
      "*******\n"
     ]
    }
   ],
   "source": [
    "n=int(input('enter a number'))\n",
    "for i in range(1,n+1):\n",
    "      for j in range(n-i):\n",
    "          print(' ',end='')\n",
    "      for k in range(2*i-1):\n",
    "          print('*',end='')\n",
    "      print()      "
   ]
  },
  {
   "cell_type": "code",
   "execution_count": 1,
   "id": "30a073df-345b-4750-a430-487ee20b43ed",
   "metadata": {},
   "outputs": [
    {
     "name": "stdout",
     "output_type": "stream",
     "text": [
      "   *\n",
      "  ***\n",
      " *****\n",
      "*******\n"
     ]
    }
   ],
   "source": [
    "def pyramid(n):\n",
    "    for i in range(1,n+1):\n",
    "        for j in range(n-i):\n",
    "            print(' ',end='')\n",
    "        for k in range(2*i-1):\n",
    "            print('*',end='')\n",
    "        print() \n",
    "pyramid(4)"
   ]
  },
  {
   "cell_type": "code",
   "execution_count": 7,
   "id": "7904ac15-c8e9-43d4-8015-a268b282de2a",
   "metadata": {},
   "outputs": [
    {
     "name": "stdout",
     "output_type": "stream",
     "text": [
      "\n",
      "*\n",
      "**\n",
      "***\n",
      "****\n"
     ]
    }
   ],
   "source": [
    "def pyramid(n):\n",
    "    for i in range(n+1):\n",
    "        for j in range(i):\n",
    "            print('*',end='')\n",
    "        print()\n",
    "pyramid(4)"
   ]
  },
  {
   "cell_type": "code",
   "execution_count": 9,
   "id": "cc7e1877-0242-4558-a403-364eedba39ca",
   "metadata": {},
   "outputs": [
    {
     "name": "stdout",
     "output_type": "stream",
     "text": [
      "****\n",
      "***\n",
      "**\n",
      "*\n",
      "\n"
     ]
    }
   ],
   "source": [
    "def pyramid(n):\n",
    "    for i in range(n+1):\n",
    "        for j in range(n-i):\n",
    "            print('*',end='')\n",
    "        print()\n",
    "pyramid(4)"
   ]
  },
  {
   "cell_type": "code",
   "execution_count": 15,
   "id": "28def352-e314-42d1-b137-61ea9c7eb844",
   "metadata": {},
   "outputs": [
    {
     "name": "stdout",
     "output_type": "stream",
     "text": [
      "   ****\n",
      "  ****\n",
      " ****\n",
      "****\n"
     ]
    }
   ],
   "source": [
    "def pyramid(n):\n",
    "    for i in range(1,n+1):\n",
    "        for j in range(n-i):\n",
    "            print(' ',end='')\n",
    "        for k in range(n):\n",
    "            print('*',end='')\n",
    "        print() \n",
    "pyramid(4)"
   ]
  },
  {
   "cell_type": "code",
   "execution_count": 47,
   "id": "82e5e318-24b7-4c3d-b3c9-9930f1887ef6",
   "metadata": {},
   "outputs": [
    {
     "name": "stdout",
     "output_type": "stream",
     "text": [
      "*******\n",
      " *****\n",
      "  ***\n",
      "   *\n"
     ]
    }
   ],
   "source": [
    "def pyramid(n):\n",
    "    for i in range(n,0,-1):\n",
    "        for j in range(n-i):\n",
    "            print(' ',end='')\n",
    "        for k in range(1,2*i):\n",
    "            print('*',end='')\n",
    "        print() \n",
    "pyramid(4)"
   ]
  },
  {
   "cell_type": "code",
   "execution_count": null,
   "id": "1a73d2b4-23aa-4d7b-9197-494902a37cc8",
   "metadata": {},
   "outputs": [],
   "source": []
  }
 ],
 "metadata": {
  "kernelspec": {
   "display_name": "Python 3 (ipykernel)",
   "language": "python",
   "name": "python3"
  },
  "language_info": {
   "codemirror_mode": {
    "name": "ipython",
    "version": 3
   },
   "file_extension": ".py",
   "mimetype": "text/x-python",
   "name": "python",
   "nbconvert_exporter": "python",
   "pygments_lexer": "ipython3",
   "version": "3.12.4"
  }
 },
 "nbformat": 4,
 "nbformat_minor": 5
}
