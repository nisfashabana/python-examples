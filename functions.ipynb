{
 "cells": [
  {
   "cell_type": "markdown",
   "id": "0c9dccad-c7f8-4895-9eab-748a18c93e6c",
   "metadata": {},
   "source": [
    "1.write a python functon to check whether a number falls within a given range"
   ]
  },
  {
   "cell_type": "code",
   "execution_count": 14,
   "id": "1f38a354-7e3b-44a1-8d92-b5436bdcee8e",
   "metadata": {},
   "outputs": [],
   "source": [
    "def num(n,start,end):\n",
    "    return start<=n<=end"
   ]
  },
  {
   "cell_type": "code",
   "execution_count": 16,
   "id": "ad4c3659-5680-4f11-be2e-c295556af3bd",
   "metadata": {},
   "outputs": [
    {
     "data": {
      "text/plain": [
       "True"
      ]
     },
     "execution_count": 16,
     "metadata": {},
     "output_type": "execute_result"
    }
   ],
   "source": [
    "num(2,1,10)"
   ]
  },
  {
   "cell_type": "code",
   "execution_count": 18,
   "id": "2f2ee3ac-6ff9-4c2e-a0a1-5ecb2a2ef271",
   "metadata": {},
   "outputs": [
    {
     "data": {
      "text/plain": [
       "False"
      ]
     },
     "execution_count": 18,
     "metadata": {},
     "output_type": "execute_result"
    }
   ],
   "source": [
    "num(10,1,5)"
   ]
  },
  {
   "cell_type": "markdown",
   "id": "8e112786-0353-495d-b363-b185435a8a41",
   "metadata": {},
   "source": [
    "2.write a python function that accepts a string and counts the number of upper and lower case letters\n",
    "\n"
   ]
  },
  {
   "cell_type": "code",
   "execution_count": 66,
   "id": "a450810b-b068-4bcc-a2f7-fa43db2f4b4f",
   "metadata": {},
   "outputs": [
    {
     "name": "stdin",
     "output_type": "stream",
     "text": [
      "enter a string zfcaASDF\n"
     ]
    },
    {
     "data": {
      "text/plain": [
       "[4, 4]"
      ]
     },
     "execution_count": 66,
     "metadata": {},
     "output_type": "execute_result"
    }
   ],
   "source": [
    "str=input ('enter a string')\n",
    "def upper_lower(str):\n",
    "    upper=0\n",
    "    lower=0\n",
    "    for char in str:\n",
    "        if char.isupper():\n",
    "            upper+=1\n",
    "        else:\n",
    "            lower+=1\n",
    "    return [upper,lower]\n",
    "upper_lower(str)"
   ]
  },
  {
   "cell_type": "markdown",
   "id": "d3382d92-ea23-4cb6-b91a-41d28b6ef23e",
   "metadata": {},
   "source": [
    "write a python function that takes a list and returns a new list with distinct elements from the list."
   ]
  },
  {
   "cell_type": "code",
   "execution_count": 103,
   "id": "14122c34-3d5d-46b0-8030-eb4e64a97cc7",
   "metadata": {},
   "outputs": [
    {
     "data": {
      "text/plain": [
       "[1, 2, 3, 4, 5, 6]"
      ]
     },
     "execution_count": 103,
     "metadata": {},
     "output_type": "execute_result"
    }
   ],
   "source": [
    "lit=[1,1,2,2,3,3,4,4,5,6]\n",
    "def new_list(lit):\n",
    "    return list(set(lit))\n",
    "new_list(lit)"
   ]
  },
  {
   "cell_type": "code",
   "execution_count": 1,
   "id": "0e4ae7c5-2b08-489a-9356-2d9cfa2115ea",
   "metadata": {},
   "outputs": [],
   "source": [
    "#another way using for loop"
   ]
  },
  {
   "cell_type": "code",
   "execution_count": 121,
   "id": "0b532284-d56f-4140-a71f-25e786f48f67",
   "metadata": {},
   "outputs": [],
   "source": [
    "lit=[1,1,2,2,3,3,4,4,5,6]\n",
    "def new_list(lit):\n",
    "    a=[]\n",
    "    b=set()\n",
    "    for i in lit:\n",
    "        if i not in b:\n",
    "            a.append(i)\n",
    "            b.add(i)\n",
    "    return a"
   ]
  },
  {
   "cell_type": "code",
   "execution_count": 123,
   "id": "b2b53d31-9e3b-487e-97e8-ef1c9b0a6548",
   "metadata": {},
   "outputs": [
    {
     "data": {
      "text/plain": [
       "[1, 2, 3, 4, 5, 6]"
      ]
     },
     "execution_count": 123,
     "metadata": {},
     "output_type": "execute_result"
    }
   ],
   "source": [
    "new_list(lit)"
   ]
  },
  {
   "cell_type": "markdown",
   "id": "39e04f8e-f691-4135-8bda-721f293d8d5a",
   "metadata": {},
   "source": [
    "Write a python function that checks whether a passed string is a palindrome or not"
   ]
  },
  {
   "cell_type": "code",
   "execution_count": 32,
   "id": "cc04a769-ce1c-4dbe-81bd-967771c5bddb",
   "metadata": {},
   "outputs": [
    {
     "name": "stdin",
     "output_type": "stream",
     "text": [
      "enter a string malayalam\n"
     ]
    },
    {
     "data": {
      "text/plain": [
       "True"
      ]
     },
     "execution_count": 32,
     "metadata": {},
     "output_type": "execute_result"
    }
   ],
   "source": [
    "def palindrome(s):\n",
    "    return s==s[::-1]\n",
    "s=(input('enter a string'))\n",
    "palindrome(s)\n",
    "    "
   ]
  },
  {
   "cell_type": "code",
   "execution_count": 34,
   "id": "6af0c968-9dfe-48be-81c1-2d8db403be64",
   "metadata": {},
   "outputs": [
    {
     "name": "stdin",
     "output_type": "stream",
     "text": [
      "enter a string Malayalam\n"
     ]
    },
    {
     "data": {
      "text/plain": [
       "False"
      ]
     },
     "execution_count": 34,
     "metadata": {},
     "output_type": "execute_result"
    }
   ],
   "source": [
    "def palindrome(s):\n",
    "    return s==s[::-1]\n",
    "s=(input('enter a string'))\n",
    "palindrome(s)\n",
    "    "
   ]
  },
  {
   "cell_type": "markdown",
   "id": "adba64c4-6ea3-421b-b914-930ecaf2ab85",
   "metadata": {},
   "source": [
    "we can use another step to solve this case problem"
   ]
  },
  {
   "cell_type": "code",
   "execution_count": 42,
   "id": "e582235a-dbca-416e-a356-e865512d96f6",
   "metadata": {},
   "outputs": [
    {
     "name": "stdin",
     "output_type": "stream",
     "text": [
      "enter a string Malayalam\n"
     ]
    },
    {
     "data": {
      "text/plain": [
       "True"
      ]
     },
     "execution_count": 42,
     "metadata": {},
     "output_type": "execute_result"
    }
   ],
   "source": [
    "def palindrome(s):\n",
    "    #remove any non alphanumeric charecters and convert to lowercase\n",
    "    new_string=''.join(char.lower()\n",
    "    for char in s if char.isalnum())\n",
    "    return new_string==new_string[::-1]\n",
    "s=(input('enter a string'))\n",
    "palindrome(s)\n",
    "                       "
   ]
  },
  {
   "cell_type": "markdown",
   "id": "b9b70f6e-64d0-4ba3-a5c6-6d027cc49d09",
   "metadata": {},
   "source": [
    "write a python function to check whether a string is a pangram or not"
   ]
  },
  {
   "cell_type": "code",
   "execution_count": 61,
   "id": "d124d84e-ddcb-457f-b356-c3091e5aa00d",
   "metadata": {},
   "outputs": [],
   "source": [
    "import string"
   ]
  },
  {
   "cell_type": "code",
   "execution_count": 65,
   "id": "c801d891-06b3-4f90-9901-8c4b14855f05",
   "metadata": {},
   "outputs": [
    {
     "name": "stdin",
     "output_type": "stream",
     "text": [
      "enter a sring abcd efghijklmnopqrstuvwxyz\n"
     ]
    },
    {
     "data": {
      "text/plain": [
       "True"
      ]
     },
     "execution_count": 65,
     "metadata": {},
     "output_type": "execute_result"
    }
   ],
   "source": [
    "def pangram(s):\n",
    "    new_string=set(string.ascii_lowercase)\n",
    "    input_set=set(s.lower())\n",
    "    return new_string<=input_set\n",
    "s=(input('enter a sring'))\n",
    "pangram(s)\n",
    "    "
   ]
  },
  {
   "cell_type": "code",
   "execution_count": 68,
   "id": "c2fbeaf2-fedb-400a-b164-06414fab444c",
   "metadata": {},
   "outputs": [
    {
     "name": "stdin",
     "output_type": "stream",
     "text": [
      "enter a sring abcxm kxmsk\n"
     ]
    },
    {
     "data": {
      "text/plain": [
       "False"
      ]
     },
     "execution_count": 68,
     "metadata": {},
     "output_type": "execute_result"
    }
   ],
   "source": [
    "s=(input('enter a sring'))\n",
    "pangram(s)"
   ]
  },
  {
   "cell_type": "markdown",
   "id": "420e0094-b474-4573-9c92-5b0f13c82bb1",
   "metadata": {},
   "source": [
    "write a python program that accepts a hyphen-seperated sequence of words as input and prints the words in a\n",
    "hyphen-seperated sequence after sorting them alphebetically"
   ]
  },
  {
   "cell_type": "code",
   "execution_count": 22,
   "id": "41e382d2-45f3-422b-af15-41d4745ea29e",
   "metadata": {},
   "outputs": [
    {
     "name": "stdin",
     "output_type": "stream",
     "text": [
      "enter a hyphen-seperated sequence of words red-blue-yellow\n"
     ]
    },
    {
     "name": "stdout",
     "output_type": "stream",
     "text": [
      "sorted sequence: blue-red-yellow\n"
     ]
    }
   ],
   "source": [
    "def sort_hyphenated_words():\n",
    "    input_sequence=(input(\"enter a hyphen-seperated sequence of words\"))\n",
    "    #split the input sequence into a list of words\n",
    "    words=input_sequence.split('-')\n",
    "    words.sort() #sort the list of words alphabetically\n",
    "    sorted='-'.join(words)\n",
    "    print('sorted sequence:',sorted)\n",
    "sort_hyphenated_words()\n",
    "    \n",
    "    \n",
    "                      "
   ]
  },
  {
   "cell_type": "code",
   "execution_count": null,
   "id": "e87c9f19-23cc-4bbe-a2d9-bb63114a7155",
   "metadata": {},
   "outputs": [],
   "source": []
  }
 ],
 "metadata": {
  "kernelspec": {
   "display_name": "Python 3 (ipykernel)",
   "language": "python",
   "name": "python3"
  },
  "language_info": {
   "codemirror_mode": {
    "name": "ipython",
    "version": 3
   },
   "file_extension": ".py",
   "mimetype": "text/x-python",
   "name": "python",
   "nbconvert_exporter": "python",
   "pygments_lexer": "ipython3",
   "version": "3.12.4"
  }
 },
 "nbformat": 4,
 "nbformat_minor": 5
}
