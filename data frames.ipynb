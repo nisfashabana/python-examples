{
 "cells": [
  {
   "cell_type": "code",
   "execution_count": 1,
   "id": "b943a22c-8078-4e0a-a79c-38d2ae531c45",
   "metadata": {},
   "outputs": [],
   "source": [
    "import numpy as np"
   ]
  },
  {
   "cell_type": "code",
   "execution_count": 3,
   "id": "e0990644-62cb-458e-8d75-b5f09e39a33a",
   "metadata": {},
   "outputs": [],
   "source": [
    " import pandas as pd"
   ]
  },
  {
   "cell_type": "code",
   "execution_count": 5,
   "id": "377dd4fb-ca14-4ac1-9d9b-3fa31d9e7c31",
   "metadata": {},
   "outputs": [],
   "source": [
    "from numpy.random import randn"
   ]
  },
  {
   "cell_type": "code",
   "execution_count": 7,
   "id": "fe530786-4331-4916-ab3f-d1ba60c6aab0",
   "metadata": {},
   "outputs": [],
   "source": [
    "np.random.seed(10)"
   ]
  },
  {
   "cell_type": "code",
   "execution_count": 9,
   "id": "eb0ebff4-efaf-424c-8a5f-c1869dac3135",
   "metadata": {},
   "outputs": [
    {
     "data": {
      "text/plain": [
       "array([[ 1.3315865 ,  0.71527897, -1.54540029, -0.00838385],\n",
       "       [ 0.62133597, -0.72008556,  0.26551159,  0.10854853],\n",
       "       [ 0.00429143, -0.17460021,  0.43302619,  1.20303737],\n",
       "       [-0.96506567,  1.02827408,  0.22863013,  0.44513761],\n",
       "       [-1.13660221,  0.13513688,  1.484537  , -1.07980489]])"
      ]
     },
     "execution_count": 9,
     "metadata": {},
     "output_type": "execute_result"
    }
   ],
   "source": [
    "randn(5,4)"
   ]
  },
  {
   "cell_type": "raw",
   "id": "78e222a6-2af6-432f-90a3-a08d1b8152ee",
   "metadata": {},
   "source": []
  },
  {
   "cell_type": "code",
   "execution_count": 11,
   "id": "5b8c0f67-2345-44f9-a1ac-bfe9e6c2447c",
   "metadata": {},
   "outputs": [],
   "source": [
    "df=pd.DataFrame(randn(5,4),index='A B C D E'.split(),columns='S T U V  '.split())"
   ]
  },
  {
   "cell_type": "code",
   "execution_count": 13,
   "id": "ce549427-e8e6-41a8-a6da-e5fff9ea73a9",
   "metadata": {},
   "outputs": [
    {
     "data": {
      "text/html": [
       "<div>\n",
       "<style scoped>\n",
       "    .dataframe tbody tr th:only-of-type {\n",
       "        vertical-align: middle;\n",
       "    }\n",
       "\n",
       "    .dataframe tbody tr th {\n",
       "        vertical-align: top;\n",
       "    }\n",
       "\n",
       "    .dataframe thead th {\n",
       "        text-align: right;\n",
       "    }\n",
       "</style>\n",
       "<table border=\"1\" class=\"dataframe\">\n",
       "  <thead>\n",
       "    <tr style=\"text-align: right;\">\n",
       "      <th></th>\n",
       "      <th>S</th>\n",
       "      <th>T</th>\n",
       "      <th>U</th>\n",
       "      <th>V</th>\n",
       "    </tr>\n",
       "  </thead>\n",
       "  <tbody>\n",
       "    <tr>\n",
       "      <th>A</th>\n",
       "      <td>-1.977728</td>\n",
       "      <td>-1.743372</td>\n",
       "      <td>0.266070</td>\n",
       "      <td>2.384967</td>\n",
       "    </tr>\n",
       "    <tr>\n",
       "      <th>B</th>\n",
       "      <td>1.123691</td>\n",
       "      <td>1.672622</td>\n",
       "      <td>0.099149</td>\n",
       "      <td>1.397996</td>\n",
       "    </tr>\n",
       "    <tr>\n",
       "      <th>C</th>\n",
       "      <td>-0.271248</td>\n",
       "      <td>0.613204</td>\n",
       "      <td>-0.267317</td>\n",
       "      <td>-0.549309</td>\n",
       "    </tr>\n",
       "    <tr>\n",
       "      <th>D</th>\n",
       "      <td>0.132708</td>\n",
       "      <td>-0.476142</td>\n",
       "      <td>1.308473</td>\n",
       "      <td>0.195013</td>\n",
       "    </tr>\n",
       "    <tr>\n",
       "      <th>E</th>\n",
       "      <td>0.400210</td>\n",
       "      <td>-0.337632</td>\n",
       "      <td>1.256472</td>\n",
       "      <td>-0.731970</td>\n",
       "    </tr>\n",
       "  </tbody>\n",
       "</table>\n",
       "</div>"
      ],
      "text/plain": [
       "          S         T         U         V\n",
       "A -1.977728 -1.743372  0.266070  2.384967\n",
       "B  1.123691  1.672622  0.099149  1.397996\n",
       "C -0.271248  0.613204 -0.267317 -0.549309\n",
       "D  0.132708 -0.476142  1.308473  0.195013\n",
       "E  0.400210 -0.337632  1.256472 -0.731970"
      ]
     },
     "execution_count": 13,
     "metadata": {},
     "output_type": "execute_result"
    }
   ],
   "source": [
    "df"
   ]
  },
  {
   "cell_type": "code",
   "execution_count": 45,
   "id": "5adbec11-e0ee-49e6-84e1-d2c69a2dd389",
   "metadata": {},
   "outputs": [
    {
     "data": {
      "text/plain": [
       "A    0.117476\n",
       "B   -0.144367\n",
       "C    0.706830\n",
       "D    2.404326\n",
       "E   -0.439026\n",
       "Name: S, dtype: float64"
      ]
     },
     "execution_count": 45,
     "metadata": {},
     "output_type": "execute_result"
    }
   ],
   "source": [
    "df['S']"
   ]
  },
  {
   "cell_type": "code",
   "execution_count": 15,
   "id": "709ce303-9942-4149-a96b-324d5dc1c512",
   "metadata": {},
   "outputs": [
    {
     "data": {
      "text/html": [
       "<div>\n",
       "<style scoped>\n",
       "    .dataframe tbody tr th:only-of-type {\n",
       "        vertical-align: middle;\n",
       "    }\n",
       "\n",
       "    .dataframe tbody tr th {\n",
       "        vertical-align: top;\n",
       "    }\n",
       "\n",
       "    .dataframe thead th {\n",
       "        text-align: right;\n",
       "    }\n",
       "</style>\n",
       "<table border=\"1\" class=\"dataframe\">\n",
       "  <thead>\n",
       "    <tr style=\"text-align: right;\">\n",
       "      <th></th>\n",
       "      <th>S</th>\n",
       "    </tr>\n",
       "  </thead>\n",
       "  <tbody>\n",
       "    <tr>\n",
       "      <th>A</th>\n",
       "      <td>-1.977728</td>\n",
       "    </tr>\n",
       "    <tr>\n",
       "      <th>B</th>\n",
       "      <td>1.123691</td>\n",
       "    </tr>\n",
       "    <tr>\n",
       "      <th>C</th>\n",
       "      <td>-0.271248</td>\n",
       "    </tr>\n",
       "    <tr>\n",
       "      <th>D</th>\n",
       "      <td>0.132708</td>\n",
       "    </tr>\n",
       "    <tr>\n",
       "      <th>E</th>\n",
       "      <td>0.400210</td>\n",
       "    </tr>\n",
       "  </tbody>\n",
       "</table>\n",
       "</div>"
      ],
      "text/plain": [
       "          S\n",
       "A -1.977728\n",
       "B  1.123691\n",
       "C -0.271248\n",
       "D  0.132708\n",
       "E  0.400210"
      ]
     },
     "execution_count": 15,
     "metadata": {},
     "output_type": "execute_result"
    }
   ],
   "source": [
    "df[['S']]"
   ]
  },
  {
   "cell_type": "code",
   "execution_count": 61,
   "id": "780fbfea-f093-494c-ab37-4eed57ed4f81",
   "metadata": {},
   "outputs": [
    {
     "data": {
      "text/html": [
       "<div>\n",
       "<style scoped>\n",
       "    .dataframe tbody tr th:only-of-type {\n",
       "        vertical-align: middle;\n",
       "    }\n",
       "\n",
       "    .dataframe tbody tr th {\n",
       "        vertical-align: top;\n",
       "    }\n",
       "\n",
       "    .dataframe thead th {\n",
       "        text-align: right;\n",
       "    }\n",
       "</style>\n",
       "<table border=\"1\" class=\"dataframe\">\n",
       "  <thead>\n",
       "    <tr style=\"text-align: right;\">\n",
       "      <th></th>\n",
       "      <th>S</th>\n",
       "      <th>T</th>\n",
       "      <th>V</th>\n",
       "    </tr>\n",
       "  </thead>\n",
       "  <tbody>\n",
       "    <tr>\n",
       "      <th>A</th>\n",
       "      <td>0.117476</td>\n",
       "      <td>-1.907457</td>\n",
       "      <td>0.469751</td>\n",
       "    </tr>\n",
       "    <tr>\n",
       "      <th>B</th>\n",
       "      <td>-0.144367</td>\n",
       "      <td>-0.400138</td>\n",
       "      <td>0.848209</td>\n",
       "    </tr>\n",
       "    <tr>\n",
       "      <th>C</th>\n",
       "      <td>0.706830</td>\n",
       "      <td>-0.787269</td>\n",
       "      <td>-0.470807</td>\n",
       "    </tr>\n",
       "    <tr>\n",
       "      <th>D</th>\n",
       "      <td>2.404326</td>\n",
       "      <td>-0.739357</td>\n",
       "      <td>-0.348882</td>\n",
       "    </tr>\n",
       "    <tr>\n",
       "      <th>E</th>\n",
       "      <td>-0.439026</td>\n",
       "      <td>0.141104</td>\n",
       "      <td>-1.618571</td>\n",
       "    </tr>\n",
       "  </tbody>\n",
       "</table>\n",
       "</div>"
      ],
      "text/plain": [
       "          S         T         V\n",
       "A  0.117476 -1.907457  0.469751\n",
       "B -0.144367 -0.400138  0.848209\n",
       "C  0.706830 -0.787269 -0.470807\n",
       "D  2.404326 -0.739357 -0.348882\n",
       "E -0.439026  0.141104 -1.618571"
      ]
     },
     "execution_count": 61,
     "metadata": {},
     "output_type": "execute_result"
    }
   ],
   "source": [
    "df[['S','T','V']]"
   ]
  },
  {
   "cell_type": "code",
   "execution_count": 75,
   "id": "96a14632-51c5-487f-b87c-33bf0def97a9",
   "metadata": {},
   "outputs": [
    {
     "data": {
      "text/plain": [
       "A    0.117476\n",
       "B   -0.144367\n",
       "C    0.706830\n",
       "D    2.404326\n",
       "E   -0.439026\n",
       "Name: S, dtype: float64"
      ]
     },
     "execution_count": 75,
     "metadata": {},
     "output_type": "execute_result"
    }
   ],
   "source": [
    "df.S"
   ]
  },
  {
   "cell_type": "code",
   "execution_count": 83,
   "id": "132cc43e-e1a9-47c8-8521-29508def1d8a",
   "metadata": {},
   "outputs": [],
   "source": [
    "df['new']=df['S']+df['T']"
   ]
  },
  {
   "cell_type": "code",
   "execution_count": 85,
   "id": "fe73d9f4-bc30-47ce-a36f-3421f815c354",
   "metadata": {},
   "outputs": [
    {
     "data": {
      "text/html": [
       "<div>\n",
       "<style scoped>\n",
       "    .dataframe tbody tr th:only-of-type {\n",
       "        vertical-align: middle;\n",
       "    }\n",
       "\n",
       "    .dataframe tbody tr th {\n",
       "        vertical-align: top;\n",
       "    }\n",
       "\n",
       "    .dataframe thead th {\n",
       "        text-align: right;\n",
       "    }\n",
       "</style>\n",
       "<table border=\"1\" class=\"dataframe\">\n",
       "  <thead>\n",
       "    <tr style=\"text-align: right;\">\n",
       "      <th></th>\n",
       "      <th>S</th>\n",
       "      <th>T</th>\n",
       "      <th>U</th>\n",
       "      <th>V</th>\n",
       "      <th>new</th>\n",
       "    </tr>\n",
       "  </thead>\n",
       "  <tbody>\n",
       "    <tr>\n",
       "      <th>A</th>\n",
       "      <td>0.117476</td>\n",
       "      <td>-1.907457</td>\n",
       "      <td>-0.922909</td>\n",
       "      <td>0.469751</td>\n",
       "      <td>-1.789981</td>\n",
       "    </tr>\n",
       "    <tr>\n",
       "      <th>B</th>\n",
       "      <td>-0.144367</td>\n",
       "      <td>-0.400138</td>\n",
       "      <td>-0.295984</td>\n",
       "      <td>0.848209</td>\n",
       "      <td>-0.544505</td>\n",
       "    </tr>\n",
       "    <tr>\n",
       "      <th>C</th>\n",
       "      <td>0.706830</td>\n",
       "      <td>-0.787269</td>\n",
       "      <td>0.292941</td>\n",
       "      <td>-0.470807</td>\n",
       "      <td>-0.080438</td>\n",
       "    </tr>\n",
       "    <tr>\n",
       "      <th>D</th>\n",
       "      <td>2.404326</td>\n",
       "      <td>-0.739357</td>\n",
       "      <td>-0.312829</td>\n",
       "      <td>-0.348882</td>\n",
       "      <td>1.664969</td>\n",
       "    </tr>\n",
       "    <tr>\n",
       "      <th>E</th>\n",
       "      <td>-0.439026</td>\n",
       "      <td>0.141104</td>\n",
       "      <td>0.273049</td>\n",
       "      <td>-1.618571</td>\n",
       "      <td>-0.297922</td>\n",
       "    </tr>\n",
       "  </tbody>\n",
       "</table>\n",
       "</div>"
      ],
      "text/plain": [
       "          S         T         U         V       new\n",
       "A  0.117476 -1.907457 -0.922909  0.469751 -1.789981\n",
       "B -0.144367 -0.400138 -0.295984  0.848209 -0.544505\n",
       "C  0.706830 -0.787269  0.292941 -0.470807 -0.080438\n",
       "D  2.404326 -0.739357 -0.312829 -0.348882  1.664969\n",
       "E -0.439026  0.141104  0.273049 -1.618571 -0.297922"
      ]
     },
     "execution_count": 85,
     "metadata": {},
     "output_type": "execute_result"
    }
   ],
   "source": [
    "df"
   ]
  },
  {
   "cell_type": "code",
   "execution_count": 87,
   "id": "78d0cdb0-bb1d-47bb-8edd-3e1abe35b34f",
   "metadata": {},
   "outputs": [
    {
     "data": {
      "text/html": [
       "<div>\n",
       "<style scoped>\n",
       "    .dataframe tbody tr th:only-of-type {\n",
       "        vertical-align: middle;\n",
       "    }\n",
       "\n",
       "    .dataframe tbody tr th {\n",
       "        vertical-align: top;\n",
       "    }\n",
       "\n",
       "    .dataframe thead th {\n",
       "        text-align: right;\n",
       "    }\n",
       "</style>\n",
       "<table border=\"1\" class=\"dataframe\">\n",
       "  <thead>\n",
       "    <tr style=\"text-align: right;\">\n",
       "      <th></th>\n",
       "      <th>S</th>\n",
       "      <th>T</th>\n",
       "      <th>U</th>\n",
       "      <th>V</th>\n",
       "    </tr>\n",
       "  </thead>\n",
       "  <tbody>\n",
       "    <tr>\n",
       "      <th>A</th>\n",
       "      <td>0.117476</td>\n",
       "      <td>-1.907457</td>\n",
       "      <td>-0.922909</td>\n",
       "      <td>0.469751</td>\n",
       "    </tr>\n",
       "    <tr>\n",
       "      <th>B</th>\n",
       "      <td>-0.144367</td>\n",
       "      <td>-0.400138</td>\n",
       "      <td>-0.295984</td>\n",
       "      <td>0.848209</td>\n",
       "    </tr>\n",
       "    <tr>\n",
       "      <th>C</th>\n",
       "      <td>0.706830</td>\n",
       "      <td>-0.787269</td>\n",
       "      <td>0.292941</td>\n",
       "      <td>-0.470807</td>\n",
       "    </tr>\n",
       "    <tr>\n",
       "      <th>D</th>\n",
       "      <td>2.404326</td>\n",
       "      <td>-0.739357</td>\n",
       "      <td>-0.312829</td>\n",
       "      <td>-0.348882</td>\n",
       "    </tr>\n",
       "    <tr>\n",
       "      <th>E</th>\n",
       "      <td>-0.439026</td>\n",
       "      <td>0.141104</td>\n",
       "      <td>0.273049</td>\n",
       "      <td>-1.618571</td>\n",
       "    </tr>\n",
       "  </tbody>\n",
       "</table>\n",
       "</div>"
      ],
      "text/plain": [
       "          S         T         U         V\n",
       "A  0.117476 -1.907457 -0.922909  0.469751\n",
       "B -0.144367 -0.400138 -0.295984  0.848209\n",
       "C  0.706830 -0.787269  0.292941 -0.470807\n",
       "D  2.404326 -0.739357 -0.312829 -0.348882\n",
       "E -0.439026  0.141104  0.273049 -1.618571"
      ]
     },
     "execution_count": 87,
     "metadata": {},
     "output_type": "execute_result"
    }
   ],
   "source": [
    "df.drop('new',axis=1)"
   ]
  },
  {
   "cell_type": "code",
   "execution_count": 89,
   "id": "b7eaed8b-1b96-464f-a06f-0c732cbc1aa1",
   "metadata": {},
   "outputs": [
    {
     "data": {
      "text/html": [
       "<div>\n",
       "<style scoped>\n",
       "    .dataframe tbody tr th:only-of-type {\n",
       "        vertical-align: middle;\n",
       "    }\n",
       "\n",
       "    .dataframe tbody tr th {\n",
       "        vertical-align: top;\n",
       "    }\n",
       "\n",
       "    .dataframe thead th {\n",
       "        text-align: right;\n",
       "    }\n",
       "</style>\n",
       "<table border=\"1\" class=\"dataframe\">\n",
       "  <thead>\n",
       "    <tr style=\"text-align: right;\">\n",
       "      <th></th>\n",
       "      <th>S</th>\n",
       "      <th>T</th>\n",
       "      <th>U</th>\n",
       "      <th>V</th>\n",
       "      <th>new</th>\n",
       "    </tr>\n",
       "  </thead>\n",
       "  <tbody>\n",
       "    <tr>\n",
       "      <th>A</th>\n",
       "      <td>0.117476</td>\n",
       "      <td>-1.907457</td>\n",
       "      <td>-0.922909</td>\n",
       "      <td>0.469751</td>\n",
       "      <td>-1.789981</td>\n",
       "    </tr>\n",
       "    <tr>\n",
       "      <th>B</th>\n",
       "      <td>-0.144367</td>\n",
       "      <td>-0.400138</td>\n",
       "      <td>-0.295984</td>\n",
       "      <td>0.848209</td>\n",
       "      <td>-0.544505</td>\n",
       "    </tr>\n",
       "    <tr>\n",
       "      <th>C</th>\n",
       "      <td>0.706830</td>\n",
       "      <td>-0.787269</td>\n",
       "      <td>0.292941</td>\n",
       "      <td>-0.470807</td>\n",
       "      <td>-0.080438</td>\n",
       "    </tr>\n",
       "    <tr>\n",
       "      <th>D</th>\n",
       "      <td>2.404326</td>\n",
       "      <td>-0.739357</td>\n",
       "      <td>-0.312829</td>\n",
       "      <td>-0.348882</td>\n",
       "      <td>1.664969</td>\n",
       "    </tr>\n",
       "    <tr>\n",
       "      <th>E</th>\n",
       "      <td>-0.439026</td>\n",
       "      <td>0.141104</td>\n",
       "      <td>0.273049</td>\n",
       "      <td>-1.618571</td>\n",
       "      <td>-0.297922</td>\n",
       "    </tr>\n",
       "  </tbody>\n",
       "</table>\n",
       "</div>"
      ],
      "text/plain": [
       "          S         T         U         V       new\n",
       "A  0.117476 -1.907457 -0.922909  0.469751 -1.789981\n",
       "B -0.144367 -0.400138 -0.295984  0.848209 -0.544505\n",
       "C  0.706830 -0.787269  0.292941 -0.470807 -0.080438\n",
       "D  2.404326 -0.739357 -0.312829 -0.348882  1.664969\n",
       "E -0.439026  0.141104  0.273049 -1.618571 -0.297922"
      ]
     },
     "execution_count": 89,
     "metadata": {},
     "output_type": "execute_result"
    }
   ],
   "source": [
    "df"
   ]
  },
  {
   "cell_type": "code",
   "execution_count": 93,
   "id": "81e9119e-3a8c-4fe1-9087-3eaad41fae5c",
   "metadata": {},
   "outputs": [],
   "source": [
    "df.drop('new',axis=1,inplace=True)"
   ]
  },
  {
   "cell_type": "code",
   "execution_count": 95,
   "id": "092e2e20-4b79-492f-8e34-0173b3bc673b",
   "metadata": {},
   "outputs": [
    {
     "data": {
      "text/html": [
       "<div>\n",
       "<style scoped>\n",
       "    .dataframe tbody tr th:only-of-type {\n",
       "        vertical-align: middle;\n",
       "    }\n",
       "\n",
       "    .dataframe tbody tr th {\n",
       "        vertical-align: top;\n",
       "    }\n",
       "\n",
       "    .dataframe thead th {\n",
       "        text-align: right;\n",
       "    }\n",
       "</style>\n",
       "<table border=\"1\" class=\"dataframe\">\n",
       "  <thead>\n",
       "    <tr style=\"text-align: right;\">\n",
       "      <th></th>\n",
       "      <th>S</th>\n",
       "      <th>T</th>\n",
       "      <th>U</th>\n",
       "      <th>V</th>\n",
       "    </tr>\n",
       "  </thead>\n",
       "  <tbody>\n",
       "    <tr>\n",
       "      <th>A</th>\n",
       "      <td>0.117476</td>\n",
       "      <td>-1.907457</td>\n",
       "      <td>-0.922909</td>\n",
       "      <td>0.469751</td>\n",
       "    </tr>\n",
       "    <tr>\n",
       "      <th>B</th>\n",
       "      <td>-0.144367</td>\n",
       "      <td>-0.400138</td>\n",
       "      <td>-0.295984</td>\n",
       "      <td>0.848209</td>\n",
       "    </tr>\n",
       "    <tr>\n",
       "      <th>C</th>\n",
       "      <td>0.706830</td>\n",
       "      <td>-0.787269</td>\n",
       "      <td>0.292941</td>\n",
       "      <td>-0.470807</td>\n",
       "    </tr>\n",
       "    <tr>\n",
       "      <th>D</th>\n",
       "      <td>2.404326</td>\n",
       "      <td>-0.739357</td>\n",
       "      <td>-0.312829</td>\n",
       "      <td>-0.348882</td>\n",
       "    </tr>\n",
       "    <tr>\n",
       "      <th>E</th>\n",
       "      <td>-0.439026</td>\n",
       "      <td>0.141104</td>\n",
       "      <td>0.273049</td>\n",
       "      <td>-1.618571</td>\n",
       "    </tr>\n",
       "  </tbody>\n",
       "</table>\n",
       "</div>"
      ],
      "text/plain": [
       "          S         T         U         V\n",
       "A  0.117476 -1.907457 -0.922909  0.469751\n",
       "B -0.144367 -0.400138 -0.295984  0.848209\n",
       "C  0.706830 -0.787269  0.292941 -0.470807\n",
       "D  2.404326 -0.739357 -0.312829 -0.348882\n",
       "E -0.439026  0.141104  0.273049 -1.618571"
      ]
     },
     "execution_count": 95,
     "metadata": {},
     "output_type": "execute_result"
    }
   ],
   "source": [
    "df"
   ]
  },
  {
   "cell_type": "code",
   "execution_count": 99,
   "id": "b73416ec-5303-494a-9018-44ddf1b5cfb0",
   "metadata": {},
   "outputs": [
    {
     "data": {
      "text/html": [
       "<div>\n",
       "<style scoped>\n",
       "    .dataframe tbody tr th:only-of-type {\n",
       "        vertical-align: middle;\n",
       "    }\n",
       "\n",
       "    .dataframe tbody tr th {\n",
       "        vertical-align: top;\n",
       "    }\n",
       "\n",
       "    .dataframe thead th {\n",
       "        text-align: right;\n",
       "    }\n",
       "</style>\n",
       "<table border=\"1\" class=\"dataframe\">\n",
       "  <thead>\n",
       "    <tr style=\"text-align: right;\">\n",
       "      <th></th>\n",
       "      <th>S</th>\n",
       "      <th>T</th>\n",
       "      <th>U</th>\n",
       "      <th>V</th>\n",
       "    </tr>\n",
       "  </thead>\n",
       "  <tbody>\n",
       "    <tr>\n",
       "      <th>A</th>\n",
       "      <td>0.117476</td>\n",
       "      <td>-1.907457</td>\n",
       "      <td>-0.922909</td>\n",
       "      <td>0.469751</td>\n",
       "    </tr>\n",
       "    <tr>\n",
       "      <th>B</th>\n",
       "      <td>-0.144367</td>\n",
       "      <td>-0.400138</td>\n",
       "      <td>-0.295984</td>\n",
       "      <td>0.848209</td>\n",
       "    </tr>\n",
       "    <tr>\n",
       "      <th>C</th>\n",
       "      <td>0.706830</td>\n",
       "      <td>-0.787269</td>\n",
       "      <td>0.292941</td>\n",
       "      <td>-0.470807</td>\n",
       "    </tr>\n",
       "    <tr>\n",
       "      <th>D</th>\n",
       "      <td>2.404326</td>\n",
       "      <td>-0.739357</td>\n",
       "      <td>-0.312829</td>\n",
       "      <td>-0.348882</td>\n",
       "    </tr>\n",
       "  </tbody>\n",
       "</table>\n",
       "</div>"
      ],
      "text/plain": [
       "          S         T         U         V\n",
       "A  0.117476 -1.907457 -0.922909  0.469751\n",
       "B -0.144367 -0.400138 -0.295984  0.848209\n",
       "C  0.706830 -0.787269  0.292941 -0.470807\n",
       "D  2.404326 -0.739357 -0.312829 -0.348882"
      ]
     },
     "execution_count": 99,
     "metadata": {},
     "output_type": "execute_result"
    }
   ],
   "source": [
    "df.drop('E',axis=0)"
   ]
  },
  {
   "cell_type": "code",
   "execution_count": 101,
   "id": "2667a7fa-6431-444f-a1c1-3c6532e1a3c1",
   "metadata": {},
   "outputs": [
    {
     "data": {
      "text/html": [
       "<div>\n",
       "<style scoped>\n",
       "    .dataframe tbody tr th:only-of-type {\n",
       "        vertical-align: middle;\n",
       "    }\n",
       "\n",
       "    .dataframe tbody tr th {\n",
       "        vertical-align: top;\n",
       "    }\n",
       "\n",
       "    .dataframe thead th {\n",
       "        text-align: right;\n",
       "    }\n",
       "</style>\n",
       "<table border=\"1\" class=\"dataframe\">\n",
       "  <thead>\n",
       "    <tr style=\"text-align: right;\">\n",
       "      <th></th>\n",
       "      <th>S</th>\n",
       "      <th>T</th>\n",
       "      <th>U</th>\n",
       "      <th>V</th>\n",
       "    </tr>\n",
       "  </thead>\n",
       "  <tbody>\n",
       "    <tr>\n",
       "      <th>A</th>\n",
       "      <td>0.117476</td>\n",
       "      <td>-1.907457</td>\n",
       "      <td>-0.922909</td>\n",
       "      <td>0.469751</td>\n",
       "    </tr>\n",
       "    <tr>\n",
       "      <th>B</th>\n",
       "      <td>-0.144367</td>\n",
       "      <td>-0.400138</td>\n",
       "      <td>-0.295984</td>\n",
       "      <td>0.848209</td>\n",
       "    </tr>\n",
       "    <tr>\n",
       "      <th>C</th>\n",
       "      <td>0.706830</td>\n",
       "      <td>-0.787269</td>\n",
       "      <td>0.292941</td>\n",
       "      <td>-0.470807</td>\n",
       "    </tr>\n",
       "    <tr>\n",
       "      <th>D</th>\n",
       "      <td>2.404326</td>\n",
       "      <td>-0.739357</td>\n",
       "      <td>-0.312829</td>\n",
       "      <td>-0.348882</td>\n",
       "    </tr>\n",
       "    <tr>\n",
       "      <th>E</th>\n",
       "      <td>-0.439026</td>\n",
       "      <td>0.141104</td>\n",
       "      <td>0.273049</td>\n",
       "      <td>-1.618571</td>\n",
       "    </tr>\n",
       "  </tbody>\n",
       "</table>\n",
       "</div>"
      ],
      "text/plain": [
       "          S         T         U         V\n",
       "A  0.117476 -1.907457 -0.922909  0.469751\n",
       "B -0.144367 -0.400138 -0.295984  0.848209\n",
       "C  0.706830 -0.787269  0.292941 -0.470807\n",
       "D  2.404326 -0.739357 -0.312829 -0.348882\n",
       "E -0.439026  0.141104  0.273049 -1.618571"
      ]
     },
     "execution_count": 101,
     "metadata": {},
     "output_type": "execute_result"
    }
   ],
   "source": [
    "df"
   ]
  },
  {
   "cell_type": "code",
   "execution_count": 107,
   "id": "6e1df52c-5573-47b5-932f-0b6e155c4bb1",
   "metadata": {
    "scrolled": true
   },
   "outputs": [
    {
     "data": {
      "text/plain": [
       "S   -0.439026\n",
       "T    0.141104\n",
       "U    0.273049\n",
       "V   -1.618571\n",
       "Name: E, dtype: float64"
      ]
     },
     "execution_count": 107,
     "metadata": {},
     "output_type": "execute_result"
    }
   ],
   "source": [
    "df.loc['E']"
   ]
  },
  {
   "cell_type": "code",
   "execution_count": 109,
   "id": "cddc2d82-0cd6-4b3f-a4f2-0a34d041dc20",
   "metadata": {},
   "outputs": [
    {
     "data": {
      "text/plain": [
       "S    0.706830\n",
       "T   -0.787269\n",
       "U    0.292941\n",
       "V   -0.470807\n",
       "Name: C, dtype: float64"
      ]
     },
     "execution_count": 109,
     "metadata": {},
     "output_type": "execute_result"
    }
   ],
   "source": [
    "df.iloc[2]"
   ]
  },
  {
   "cell_type": "code",
   "execution_count": 111,
   "id": "901d4fe8-f754-4076-9c48-73ed2c84ccea",
   "metadata": {},
   "outputs": [
    {
     "data": {
      "text/plain": [
       "-1.9074568881244003"
      ]
     },
     "execution_count": 111,
     "metadata": {},
     "output_type": "execute_result"
    }
   ],
   "source": [
    "df.loc['A','T']"
   ]
  },
  {
   "cell_type": "code",
   "execution_count": 121,
   "id": "c3287e0b-54d3-4f4f-a2c0-bac9f1e8b204",
   "metadata": {},
   "outputs": [
    {
     "data": {
      "text/html": [
       "<div>\n",
       "<style scoped>\n",
       "    .dataframe tbody tr th:only-of-type {\n",
       "        vertical-align: middle;\n",
       "    }\n",
       "\n",
       "    .dataframe tbody tr th {\n",
       "        vertical-align: top;\n",
       "    }\n",
       "\n",
       "    .dataframe thead th {\n",
       "        text-align: right;\n",
       "    }\n",
       "</style>\n",
       "<table border=\"1\" class=\"dataframe\">\n",
       "  <thead>\n",
       "    <tr style=\"text-align: right;\">\n",
       "      <th></th>\n",
       "      <th>S</th>\n",
       "      <th>U</th>\n",
       "    </tr>\n",
       "  </thead>\n",
       "  <tbody>\n",
       "    <tr>\n",
       "      <th>A</th>\n",
       "      <td>0.117476</td>\n",
       "      <td>-0.922909</td>\n",
       "    </tr>\n",
       "    <tr>\n",
       "      <th>D</th>\n",
       "      <td>2.404326</td>\n",
       "      <td>-0.312829</td>\n",
       "    </tr>\n",
       "  </tbody>\n",
       "</table>\n",
       "</div>"
      ],
      "text/plain": [
       "          S         U\n",
       "A  0.117476 -0.922909\n",
       "D  2.404326 -0.312829"
      ]
     },
     "execution_count": 121,
     "metadata": {},
     "output_type": "execute_result"
    }
   ],
   "source": [
    "df.loc[['A','D'],['S','U']]"
   ]
  },
  {
   "cell_type": "code",
   "execution_count": 123,
   "id": "ed95c39c-d44b-4166-ab16-c15a391ba893",
   "metadata": {},
   "outputs": [
    {
     "data": {
      "text/html": [
       "<div>\n",
       "<style scoped>\n",
       "    .dataframe tbody tr th:only-of-type {\n",
       "        vertical-align: middle;\n",
       "    }\n",
       "\n",
       "    .dataframe tbody tr th {\n",
       "        vertical-align: top;\n",
       "    }\n",
       "\n",
       "    .dataframe thead th {\n",
       "        text-align: right;\n",
       "    }\n",
       "</style>\n",
       "<table border=\"1\" class=\"dataframe\">\n",
       "  <thead>\n",
       "    <tr style=\"text-align: right;\">\n",
       "      <th></th>\n",
       "      <th>S</th>\n",
       "      <th>T</th>\n",
       "      <th>U</th>\n",
       "      <th>V</th>\n",
       "    </tr>\n",
       "  </thead>\n",
       "  <tbody>\n",
       "    <tr>\n",
       "      <th>A</th>\n",
       "      <td>0.117476</td>\n",
       "      <td>NaN</td>\n",
       "      <td>NaN</td>\n",
       "      <td>0.469751</td>\n",
       "    </tr>\n",
       "    <tr>\n",
       "      <th>B</th>\n",
       "      <td>NaN</td>\n",
       "      <td>NaN</td>\n",
       "      <td>NaN</td>\n",
       "      <td>0.848209</td>\n",
       "    </tr>\n",
       "    <tr>\n",
       "      <th>C</th>\n",
       "      <td>0.706830</td>\n",
       "      <td>NaN</td>\n",
       "      <td>0.292941</td>\n",
       "      <td>NaN</td>\n",
       "    </tr>\n",
       "    <tr>\n",
       "      <th>D</th>\n",
       "      <td>2.404326</td>\n",
       "      <td>NaN</td>\n",
       "      <td>NaN</td>\n",
       "      <td>NaN</td>\n",
       "    </tr>\n",
       "    <tr>\n",
       "      <th>E</th>\n",
       "      <td>NaN</td>\n",
       "      <td>0.141104</td>\n",
       "      <td>0.273049</td>\n",
       "      <td>NaN</td>\n",
       "    </tr>\n",
       "  </tbody>\n",
       "</table>\n",
       "</div>"
      ],
      "text/plain": [
       "          S         T         U         V\n",
       "A  0.117476       NaN       NaN  0.469751\n",
       "B       NaN       NaN       NaN  0.848209\n",
       "C  0.706830       NaN  0.292941       NaN\n",
       "D  2.404326       NaN       NaN       NaN\n",
       "E       NaN  0.141104  0.273049       NaN"
      ]
     },
     "execution_count": 123,
     "metadata": {},
     "output_type": "execute_result"
    }
   ],
   "source": [
    "df[df>0]"
   ]
  },
  {
   "cell_type": "code",
   "execution_count": 131,
   "id": "7a951bde-8973-4c7f-aba9-fef59ba50bbb",
   "metadata": {},
   "outputs": [
    {
     "data": {
      "text/html": [
       "<div>\n",
       "<style scoped>\n",
       "    .dataframe tbody tr th:only-of-type {\n",
       "        vertical-align: middle;\n",
       "    }\n",
       "\n",
       "    .dataframe tbody tr th {\n",
       "        vertical-align: top;\n",
       "    }\n",
       "\n",
       "    .dataframe thead th {\n",
       "        text-align: right;\n",
       "    }\n",
       "</style>\n",
       "<table border=\"1\" class=\"dataframe\">\n",
       "  <thead>\n",
       "    <tr style=\"text-align: right;\">\n",
       "      <th></th>\n",
       "      <th>S</th>\n",
       "      <th>T</th>\n",
       "      <th>U</th>\n",
       "      <th>V</th>\n",
       "    </tr>\n",
       "  </thead>\n",
       "  <tbody>\n",
       "    <tr>\n",
       "      <th>A</th>\n",
       "      <td>0.117476</td>\n",
       "      <td>-1.907457</td>\n",
       "      <td>-0.922909</td>\n",
       "      <td>0.469751</td>\n",
       "    </tr>\n",
       "    <tr>\n",
       "      <th>C</th>\n",
       "      <td>0.706830</td>\n",
       "      <td>-0.787269</td>\n",
       "      <td>0.292941</td>\n",
       "      <td>-0.470807</td>\n",
       "    </tr>\n",
       "    <tr>\n",
       "      <th>D</th>\n",
       "      <td>2.404326</td>\n",
       "      <td>-0.739357</td>\n",
       "      <td>-0.312829</td>\n",
       "      <td>-0.348882</td>\n",
       "    </tr>\n",
       "  </tbody>\n",
       "</table>\n",
       "</div>"
      ],
      "text/plain": [
       "          S         T         U         V\n",
       "A  0.117476 -1.907457 -0.922909  0.469751\n",
       "C  0.706830 -0.787269  0.292941 -0.470807\n",
       "D  2.404326 -0.739357 -0.312829 -0.348882"
      ]
     },
     "execution_count": 131,
     "metadata": {},
     "output_type": "execute_result"
    }
   ],
   "source": [
    "df[df['S']>0]"
   ]
  },
  {
   "cell_type": "code",
   "execution_count": 143,
   "id": "d08c0612-2fa9-4f97-b7a9-d65392a7c757",
   "metadata": {},
   "outputs": [
    {
     "data": {
      "text/html": [
       "<div>\n",
       "<style scoped>\n",
       "    .dataframe tbody tr th:only-of-type {\n",
       "        vertical-align: middle;\n",
       "    }\n",
       "\n",
       "    .dataframe tbody tr th {\n",
       "        vertical-align: top;\n",
       "    }\n",
       "\n",
       "    .dataframe thead th {\n",
       "        text-align: right;\n",
       "    }\n",
       "</style>\n",
       "<table border=\"1\" class=\"dataframe\">\n",
       "  <thead>\n",
       "    <tr style=\"text-align: right;\">\n",
       "      <th></th>\n",
       "      <th>T</th>\n",
       "      <th>U</th>\n",
       "    </tr>\n",
       "  </thead>\n",
       "  <tbody>\n",
       "    <tr>\n",
       "      <th>A</th>\n",
       "      <td>-1.907457</td>\n",
       "      <td>-0.922909</td>\n",
       "    </tr>\n",
       "    <tr>\n",
       "      <th>C</th>\n",
       "      <td>-0.787269</td>\n",
       "      <td>0.292941</td>\n",
       "    </tr>\n",
       "    <tr>\n",
       "      <th>D</th>\n",
       "      <td>-0.739357</td>\n",
       "      <td>-0.312829</td>\n",
       "    </tr>\n",
       "  </tbody>\n",
       "</table>\n",
       "</div>"
      ],
      "text/plain": [
       "          T         U\n",
       "A -1.907457 -0.922909\n",
       "C -0.787269  0.292941\n",
       "D -0.739357 -0.312829"
      ]
     },
     "execution_count": 143,
     "metadata": {},
     "output_type": "execute_result"
    }
   ],
   "source": [
    "df[df['S']>0][['T','U']]"
   ]
  },
  {
   "cell_type": "code",
   "execution_count": 145,
   "id": "6dd06fba-3122-444b-a6c1-f1d3f50091f4",
   "metadata": {},
   "outputs": [
    {
     "data": {
      "text/html": [
       "<div>\n",
       "<style scoped>\n",
       "    .dataframe tbody tr th:only-of-type {\n",
       "        vertical-align: middle;\n",
       "    }\n",
       "\n",
       "    .dataframe tbody tr th {\n",
       "        vertical-align: top;\n",
       "    }\n",
       "\n",
       "    .dataframe thead th {\n",
       "        text-align: right;\n",
       "    }\n",
       "</style>\n",
       "<table border=\"1\" class=\"dataframe\">\n",
       "  <thead>\n",
       "    <tr style=\"text-align: right;\">\n",
       "      <th></th>\n",
       "      <th>index</th>\n",
       "      <th>S</th>\n",
       "      <th>T</th>\n",
       "      <th>U</th>\n",
       "      <th>V</th>\n",
       "    </tr>\n",
       "  </thead>\n",
       "  <tbody>\n",
       "    <tr>\n",
       "      <th>0</th>\n",
       "      <td>A</td>\n",
       "      <td>0.117476</td>\n",
       "      <td>-1.907457</td>\n",
       "      <td>-0.922909</td>\n",
       "      <td>0.469751</td>\n",
       "    </tr>\n",
       "    <tr>\n",
       "      <th>1</th>\n",
       "      <td>B</td>\n",
       "      <td>-0.144367</td>\n",
       "      <td>-0.400138</td>\n",
       "      <td>-0.295984</td>\n",
       "      <td>0.848209</td>\n",
       "    </tr>\n",
       "    <tr>\n",
       "      <th>2</th>\n",
       "      <td>C</td>\n",
       "      <td>0.706830</td>\n",
       "      <td>-0.787269</td>\n",
       "      <td>0.292941</td>\n",
       "      <td>-0.470807</td>\n",
       "    </tr>\n",
       "    <tr>\n",
       "      <th>3</th>\n",
       "      <td>D</td>\n",
       "      <td>2.404326</td>\n",
       "      <td>-0.739357</td>\n",
       "      <td>-0.312829</td>\n",
       "      <td>-0.348882</td>\n",
       "    </tr>\n",
       "    <tr>\n",
       "      <th>4</th>\n",
       "      <td>E</td>\n",
       "      <td>-0.439026</td>\n",
       "      <td>0.141104</td>\n",
       "      <td>0.273049</td>\n",
       "      <td>-1.618571</td>\n",
       "    </tr>\n",
       "  </tbody>\n",
       "</table>\n",
       "</div>"
      ],
      "text/plain": [
       "  index         S         T         U         V\n",
       "0     A  0.117476 -1.907457 -0.922909  0.469751\n",
       "1     B -0.144367 -0.400138 -0.295984  0.848209\n",
       "2     C  0.706830 -0.787269  0.292941 -0.470807\n",
       "3     D  2.404326 -0.739357 -0.312829 -0.348882\n",
       "4     E -0.439026  0.141104  0.273049 -1.618571"
      ]
     },
     "execution_count": 145,
     "metadata": {},
     "output_type": "execute_result"
    }
   ],
   "source": [
    "df.reset_index()"
   ]
  },
  {
   "cell_type": "code",
   "execution_count": 147,
   "id": "744a60bd-47f8-42bd-ba7e-f5a89cbc52f0",
   "metadata": {},
   "outputs": [
    {
     "data": {
      "text/plain": [
       "['SA', 'ED', 'RF', 'TG', 'RE']"
      ]
     },
     "execution_count": 147,
     "metadata": {},
     "output_type": "execute_result"
    }
   ],
   "source": [
    "new='SA ED RF TG RE'.split()\n",
    "new"
   ]
  },
  {
   "cell_type": "code",
   "execution_count": 151,
   "id": "d6505abd-c122-43ef-8b06-0498df87b259",
   "metadata": {},
   "outputs": [
    {
     "data": {
      "text/html": [
       "<div>\n",
       "<style scoped>\n",
       "    .dataframe tbody tr th:only-of-type {\n",
       "        vertical-align: middle;\n",
       "    }\n",
       "\n",
       "    .dataframe tbody tr th {\n",
       "        vertical-align: top;\n",
       "    }\n",
       "\n",
       "    .dataframe thead th {\n",
       "        text-align: right;\n",
       "    }\n",
       "</style>\n",
       "<table border=\"1\" class=\"dataframe\">\n",
       "  <thead>\n",
       "    <tr style=\"text-align: right;\">\n",
       "      <th></th>\n",
       "      <th>S</th>\n",
       "      <th>T</th>\n",
       "      <th>U</th>\n",
       "      <th>V</th>\n",
       "      <th>STATES</th>\n",
       "    </tr>\n",
       "  </thead>\n",
       "  <tbody>\n",
       "    <tr>\n",
       "      <th>A</th>\n",
       "      <td>0.117476</td>\n",
       "      <td>-1.907457</td>\n",
       "      <td>-0.922909</td>\n",
       "      <td>0.469751</td>\n",
       "      <td>SA</td>\n",
       "    </tr>\n",
       "    <tr>\n",
       "      <th>B</th>\n",
       "      <td>-0.144367</td>\n",
       "      <td>-0.400138</td>\n",
       "      <td>-0.295984</td>\n",
       "      <td>0.848209</td>\n",
       "      <td>ED</td>\n",
       "    </tr>\n",
       "    <tr>\n",
       "      <th>C</th>\n",
       "      <td>0.706830</td>\n",
       "      <td>-0.787269</td>\n",
       "      <td>0.292941</td>\n",
       "      <td>-0.470807</td>\n",
       "      <td>RF</td>\n",
       "    </tr>\n",
       "    <tr>\n",
       "      <th>D</th>\n",
       "      <td>2.404326</td>\n",
       "      <td>-0.739357</td>\n",
       "      <td>-0.312829</td>\n",
       "      <td>-0.348882</td>\n",
       "      <td>TG</td>\n",
       "    </tr>\n",
       "    <tr>\n",
       "      <th>E</th>\n",
       "      <td>-0.439026</td>\n",
       "      <td>0.141104</td>\n",
       "      <td>0.273049</td>\n",
       "      <td>-1.618571</td>\n",
       "      <td>RE</td>\n",
       "    </tr>\n",
       "  </tbody>\n",
       "</table>\n",
       "</div>"
      ],
      "text/plain": [
       "          S         T         U         V STATES\n",
       "A  0.117476 -1.907457 -0.922909  0.469751     SA\n",
       "B -0.144367 -0.400138 -0.295984  0.848209     ED\n",
       "C  0.706830 -0.787269  0.292941 -0.470807     RF\n",
       "D  2.404326 -0.739357 -0.312829 -0.348882     TG\n",
       "E -0.439026  0.141104  0.273049 -1.618571     RE"
      ]
     },
     "execution_count": 151,
     "metadata": {},
     "output_type": "execute_result"
    }
   ],
   "source": [
    "df['STATES']=new\n",
    "df"
   ]
  },
  {
   "cell_type": "code",
   "execution_count": 163,
   "id": "afa746ba-c491-4460-b2d2-f59ef5277f16",
   "metadata": {},
   "outputs": [],
   "source": [
    "df.set_index('STATES',inplace=True)"
   ]
  },
  {
   "cell_type": "code",
   "execution_count": 165,
   "id": "c62205be-f66a-4069-9aa5-511e89bf7e95",
   "metadata": {},
   "outputs": [
    {
     "data": {
      "text/html": [
       "<div>\n",
       "<style scoped>\n",
       "    .dataframe tbody tr th:only-of-type {\n",
       "        vertical-align: middle;\n",
       "    }\n",
       "\n",
       "    .dataframe tbody tr th {\n",
       "        vertical-align: top;\n",
       "    }\n",
       "\n",
       "    .dataframe thead th {\n",
       "        text-align: right;\n",
       "    }\n",
       "</style>\n",
       "<table border=\"1\" class=\"dataframe\">\n",
       "  <thead>\n",
       "    <tr style=\"text-align: right;\">\n",
       "      <th></th>\n",
       "      <th>S</th>\n",
       "      <th>T</th>\n",
       "      <th>U</th>\n",
       "      <th>V</th>\n",
       "    </tr>\n",
       "    <tr>\n",
       "      <th>STATES</th>\n",
       "      <th></th>\n",
       "      <th></th>\n",
       "      <th></th>\n",
       "      <th></th>\n",
       "    </tr>\n",
       "  </thead>\n",
       "  <tbody>\n",
       "    <tr>\n",
       "      <th>SA</th>\n",
       "      <td>0.117476</td>\n",
       "      <td>-1.907457</td>\n",
       "      <td>-0.922909</td>\n",
       "      <td>0.469751</td>\n",
       "    </tr>\n",
       "    <tr>\n",
       "      <th>ED</th>\n",
       "      <td>-0.144367</td>\n",
       "      <td>-0.400138</td>\n",
       "      <td>-0.295984</td>\n",
       "      <td>0.848209</td>\n",
       "    </tr>\n",
       "    <tr>\n",
       "      <th>RF</th>\n",
       "      <td>0.706830</td>\n",
       "      <td>-0.787269</td>\n",
       "      <td>0.292941</td>\n",
       "      <td>-0.470807</td>\n",
       "    </tr>\n",
       "    <tr>\n",
       "      <th>TG</th>\n",
       "      <td>2.404326</td>\n",
       "      <td>-0.739357</td>\n",
       "      <td>-0.312829</td>\n",
       "      <td>-0.348882</td>\n",
       "    </tr>\n",
       "    <tr>\n",
       "      <th>RE</th>\n",
       "      <td>-0.439026</td>\n",
       "      <td>0.141104</td>\n",
       "      <td>0.273049</td>\n",
       "      <td>-1.618571</td>\n",
       "    </tr>\n",
       "  </tbody>\n",
       "</table>\n",
       "</div>"
      ],
      "text/plain": [
       "               S         T         U         V\n",
       "STATES                                        \n",
       "SA      0.117476 -1.907457 -0.922909  0.469751\n",
       "ED     -0.144367 -0.400138 -0.295984  0.848209\n",
       "RF      0.706830 -0.787269  0.292941 -0.470807\n",
       "TG      2.404326 -0.739357 -0.312829 -0.348882\n",
       "RE     -0.439026  0.141104  0.273049 -1.618571"
      ]
     },
     "execution_count": 165,
     "metadata": {},
     "output_type": "execute_result"
    }
   ],
   "source": [
    "df"
   ]
  },
  {
   "cell_type": "code",
   "execution_count": null,
   "id": "4d106c6f-09ae-4e69-bc71-70871482d64e",
   "metadata": {},
   "outputs": [],
   "source": []
  }
 ],
 "metadata": {
  "kernelspec": {
   "display_name": "Python 3 (ipykernel)",
   "language": "python",
   "name": "python3"
  },
  "language_info": {
   "codemirror_mode": {
    "name": "ipython",
    "version": 3
   },
   "file_extension": ".py",
   "mimetype": "text/x-python",
   "name": "python",
   "nbconvert_exporter": "python",
   "pygments_lexer": "ipython3",
   "version": "3.12.4"
  }
 },
 "nbformat": 4,
 "nbformat_minor": 5
}
